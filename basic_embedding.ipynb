{
  "cells": [
    {
      "cell_type": "code",
      "execution_count": 17,
      "id": "0822e429-accf-4c28-8c25-a1748b3e54f8",
      "metadata": {
        "id": "0822e429-accf-4c28-8c25-a1748b3e54f8"
      },
      "outputs": [],
      "source": [
        "import os\n",
        "import re\n",
        "import random\n",
        "import string\n",
        "import numpy as np\n",
        "import tensorflow as tf\n",
        "from tensorflow.keras import layers\n",
        "from tensorflow.keras.layers import TextVectorization"
      ]
    },
    {
      "cell_type": "code",
      "execution_count": 18,
      "id": "cc4d17a6-156a-4aed-932a-1e2f3a662844",
      "metadata": {
        "id": "cc4d17a6-156a-4aed-932a-1e2f3a662844"
      },
      "outputs": [],
      "source": [
        "# Embedding\n",
        "from numpy import array\n",
        "\n",
        "# docs = [\n",
        "#     'Well done!', #1\n",
        "#     'Good work', #1\n",
        "#     'Great effort', #1\n",
        "#     'nice work', #1\n",
        "#     'Excellent', #1\n",
        "#     'Weak', #0\n",
        "#     'Poor Effort', #0\n",
        "#     'not good', #0\n",
        "#     'Poor work', #0\n",
        "#     'Could have done better' #0\n",
        "# ]\n",
        "\n",
        "docs = [\n",
        "        'সাবাশ',\n",
        "        'ভাল কাজ',\n",
        "        'মহান প্রচেষ্টা',\n",
        "        'চমৎকার কাজ',\n",
        "        'চমৎকার',\n",
        "        'দুর্বল',\n",
        "        'দুর্বল প্রচেষ্টা',\n",
        "        'ভাল না',\n",
        "        'দরিদ্র কাজ',\n",
        "        'আরও ভালো করতে পারত'\n",
        "]\n",
        "\n"
      ]
    },
    {
      "cell_type": "code",
      "source": [
        "docs"
      ],
      "metadata": {
        "colab": {
          "base_uri": "https://localhost:8080/"
        },
        "id": "Qy9zSc6dYraI",
        "outputId": "ae4e3c78-3230-428d-e632-2f316ca02bbe"
      },
      "id": "Qy9zSc6dYraI",
      "execution_count": 33,
      "outputs": [
        {
          "output_type": "execute_result",
          "data": {
            "text/plain": [
              "['সাবাশ',\n",
              " 'ভাল কাজ',\n",
              " 'মহান প্রচেষ্টা',\n",
              " 'চমৎকার কাজ',\n",
              " 'চমৎকার',\n",
              " 'দুর্বল',\n",
              " 'দুর্বল প্রচেষ্টা',\n",
              " 'ভাল না',\n",
              " 'দরিদ্র কাজ',\n",
              " 'আরও ভালো করতে পারত']"
            ]
          },
          "metadata": {},
          "execution_count": 33
        }
      ]
    },
    {
      "cell_type": "code",
      "execution_count": 19,
      "id": "0f287d9d-4683-481e-8dbb-f0cf3b8a0b5b",
      "metadata": {
        "id": "0f287d9d-4683-481e-8dbb-f0cf3b8a0b5b"
      },
      "outputs": [],
      "source": [
        "labels = array([1, 1, 1, 1, 1, 0, 0, 0, 0, 0])"
      ]
    },
    {
      "cell_type": "code",
      "execution_count": 20,
      "id": "d1dd3594-d138-40d1-a5b9-062cb25228d7",
      "metadata": {
        "colab": {
          "base_uri": "https://localhost:8080/"
        },
        "id": "d1dd3594-d138-40d1-a5b9-062cb25228d7",
        "outputId": "e61b0b15-1565-4bfa-b4e7-0d04e1e3c984"
      },
      "outputs": [
        {
          "output_type": "execute_result",
          "data": {
            "text/plain": [
              "array([1, 1, 1, 1, 1, 0, 0, 0, 0, 0])"
            ]
          },
          "metadata": {},
          "execution_count": 20
        }
      ],
      "source": [
        "labels"
      ]
    },
    {
      "cell_type": "code",
      "execution_count": 21,
      "id": "53131987-f1ba-42aa-9610-5acaca0f3312",
      "metadata": {
        "id": "53131987-f1ba-42aa-9610-5acaca0f3312"
      },
      "outputs": [],
      "source": [
        "vocab_size = 50"
      ]
    },
    {
      "cell_type": "code",
      "execution_count": 22,
      "id": "20534d0b-6a05-4ea5-8fcf-5a8791144476",
      "metadata": {
        "id": "20534d0b-6a05-4ea5-8fcf-5a8791144476"
      },
      "outputs": [],
      "source": [
        "encoded_docs = [ tf.keras.preprocessing.text.one_hot(d, vocab_size) for d in docs ]"
      ]
    },
    {
      "cell_type": "code",
      "execution_count": 23,
      "id": "e770c00c-f556-42fa-9f3e-e4362c3ab659",
      "metadata": {
        "colab": {
          "base_uri": "https://localhost:8080/"
        },
        "id": "e770c00c-f556-42fa-9f3e-e4362c3ab659",
        "outputId": "d2023e83-893e-4b47-9812-612916d242dd"
      },
      "outputs": [
        {
          "output_type": "execute_result",
          "data": {
            "text/plain": [
              "[[38],\n",
              " [30, 21],\n",
              " [35, 43],\n",
              " [6, 21],\n",
              " [6],\n",
              " [12],\n",
              " [12, 43],\n",
              " [30, 45],\n",
              " [45, 21],\n",
              " [4, 34, 38, 13]]"
            ]
          },
          "metadata": {},
          "execution_count": 23
        }
      ],
      "source": [
        "encoded_docs"
      ]
    },
    {
      "cell_type": "code",
      "execution_count": 24,
      "id": "7ecc7909-96dc-436a-9b8a-12d023ba2479",
      "metadata": {
        "id": "7ecc7909-96dc-436a-9b8a-12d023ba2479"
      },
      "outputs": [],
      "source": [
        "# Pad documents to a max length of four words\n",
        "max_length = 4\n",
        "\n",
        "# padded_docs = tf.keras.preprocessing.sequence.pad_sequences(encoded_docs, maxlen=max_length, padding='pre')\n",
        "padded_docs = tf.keras.preprocessing.sequence.pad_sequences(encoded_docs, maxlen=max_length, padding='post')"
      ]
    },
    {
      "cell_type": "code",
      "execution_count": 25,
      "id": "af9b3046-c7bb-4930-9412-d43fce630c25",
      "metadata": {
        "colab": {
          "base_uri": "https://localhost:8080/"
        },
        "id": "af9b3046-c7bb-4930-9412-d43fce630c25",
        "outputId": "dacef04c-d7cb-4093-b1af-a55de7748902"
      },
      "outputs": [
        {
          "output_type": "execute_result",
          "data": {
            "text/plain": [
              "array([[38,  0,  0,  0],\n",
              "       [30, 21,  0,  0],\n",
              "       [35, 43,  0,  0],\n",
              "       [ 6, 21,  0,  0],\n",
              "       [ 6,  0,  0,  0],\n",
              "       [12,  0,  0,  0],\n",
              "       [12, 43,  0,  0],\n",
              "       [30, 45,  0,  0],\n",
              "       [45, 21,  0,  0],\n",
              "       [ 4, 34, 38, 13]], dtype=int32)"
            ]
          },
          "metadata": {},
          "execution_count": 25
        }
      ],
      "source": [
        "padded_docs"
      ]
    },
    {
      "cell_type": "code",
      "execution_count": 26,
      "id": "32174639-eb13-4927-8241-9e73155d4037",
      "metadata": {
        "id": "32174639-eb13-4927-8241-9e73155d4037"
      },
      "outputs": [],
      "source": [
        "# Define the model\n",
        "model = tf.keras.Sequential()\n",
        "model.add(layers.Embedding(vocab_size, 8, input_length=max_length))\n",
        "model.add(layers.Flatten())\n",
        "model.add(layers.Dense(1, activation='sigmoid'))"
      ]
    },
    {
      "cell_type": "code",
      "execution_count": 27,
      "id": "61f11d5a-5c04-4704-80dd-7f1895d37f23",
      "metadata": {
        "id": "61f11d5a-5c04-4704-80dd-7f1895d37f23"
      },
      "outputs": [],
      "source": [
        "model.compile(optimizer='adam', loss='binary_crossentropy', metrics=['accuracy'])"
      ]
    },
    {
      "cell_type": "code",
      "execution_count": 28,
      "id": "ebf21fd6-81b5-469e-b0ea-8d4cce1fa212",
      "metadata": {
        "colab": {
          "base_uri": "https://localhost:8080/"
        },
        "id": "ebf21fd6-81b5-469e-b0ea-8d4cce1fa212",
        "outputId": "e52c4a1f-0327-478a-82a6-2d68efa91222"
      },
      "outputs": [
        {
          "output_type": "stream",
          "name": "stdout",
          "text": [
            "Model: \"sequential_1\"\n",
            "_________________________________________________________________\n",
            " Layer (type)                Output Shape              Param #   \n",
            "=================================================================\n",
            " embedding_1 (Embedding)     (None, 4, 8)              400       \n",
            "                                                                 \n",
            " flatten_1 (Flatten)         (None, 32)                0         \n",
            "                                                                 \n",
            " dense_1 (Dense)             (None, 1)                 33        \n",
            "                                                                 \n",
            "=================================================================\n",
            "Total params: 433\n",
            "Trainable params: 433\n",
            "Non-trainable params: 0\n",
            "_________________________________________________________________\n"
          ]
        }
      ],
      "source": [
        "model.summary()"
      ]
    },
    {
      "cell_type": "code",
      "execution_count": 29,
      "id": "744a4f6c-78f7-47aa-b85b-260c14f10326",
      "metadata": {
        "colab": {
          "base_uri": "https://localhost:8080/"
        },
        "id": "744a4f6c-78f7-47aa-b85b-260c14f10326",
        "outputId": "3231c9c1-7195-4d3a-a1fd-3e7225e675f8"
      },
      "outputs": [
        {
          "output_type": "execute_result",
          "data": {
            "text/plain": [
              "<keras.callbacks.History at 0x7f94bf52eb50>"
            ]
          },
          "metadata": {},
          "execution_count": 29
        }
      ],
      "source": [
        "model.fit(padded_docs, labels, epochs=50, verbose=0)"
      ]
    },
    {
      "cell_type": "code",
      "execution_count": 30,
      "id": "353595e1-3259-4188-9149-4ad1fbe7eddf",
      "metadata": {
        "id": "353595e1-3259-4188-9149-4ad1fbe7eddf"
      },
      "outputs": [],
      "source": [
        "loss, accuracy = model.evaluate(padded_docs, labels, verbose=0)"
      ]
    },
    {
      "cell_type": "code",
      "execution_count": 31,
      "id": "53815110-aca5-4a95-8846-29eeba6d3a7a",
      "metadata": {
        "colab": {
          "base_uri": "https://localhost:8080/"
        },
        "id": "53815110-aca5-4a95-8846-29eeba6d3a7a",
        "outputId": "ca97d047-1861-4af9-91e8-bdbb3f052273"
      },
      "outputs": [
        {
          "output_type": "execute_result",
          "data": {
            "text/plain": [
              "0.6244580149650574"
            ]
          },
          "metadata": {},
          "execution_count": 31
        }
      ],
      "source": [
        "loss"
      ]
    },
    {
      "cell_type": "code",
      "execution_count": 32,
      "id": "94c43fd5-c3cb-4ca5-9f51-443a5fdcdc4d",
      "metadata": {
        "colab": {
          "base_uri": "https://localhost:8080/"
        },
        "id": "94c43fd5-c3cb-4ca5-9f51-443a5fdcdc4d",
        "outputId": "ddcaf611-8118-4651-88b2-6ec28fa78456"
      },
      "outputs": [
        {
          "output_type": "execute_result",
          "data": {
            "text/plain": [
              "0.800000011920929"
            ]
          },
          "metadata": {},
          "execution_count": 32
        }
      ],
      "source": [
        "accuracy"
      ]
    },
    {
      "cell_type": "code",
      "execution_count": 32,
      "id": "cda29126-2e24-405b-a470-26b6b075adf3",
      "metadata": {
        "id": "cda29126-2e24-405b-a470-26b6b075adf3"
      },
      "outputs": [],
      "source": [
        ""
      ]
    }
  ],
  "metadata": {
    "kernelspec": {
      "display_name": "Python 3 (ipykernel)",
      "language": "python",
      "name": "python3"
    },
    "language_info": {
      "codemirror_mode": {
        "name": "ipython",
        "version": 3
      },
      "file_extension": ".py",
      "mimetype": "text/x-python",
      "name": "python",
      "nbconvert_exporter": "python",
      "pygments_lexer": "ipython3",
      "version": "3.8.10"
    },
    "colab": {
      "name": "basic_embedding.ipynb",
      "provenance": []
    },
    "accelerator": "TPU"
  },
  "nbformat": 4,
  "nbformat_minor": 5
}