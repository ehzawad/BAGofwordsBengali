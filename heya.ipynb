{
 "cells": [
  {
   "cell_type": "code",
   "execution_count": 197,
   "id": "301aee6c-b886-47d6-87af-9aa9aa146406",
   "metadata": {},
   "outputs": [],
   "source": [
    "import os\n",
    "import re\n",
    "import random\n",
    "import string\n",
    "import numpy as np"
   ]
  },
  {
   "cell_type": "code",
   "execution_count": 198,
   "id": "19a1aee9-ea78-47ff-9518-c8abf6b9474d",
   "metadata": {},
   "outputs": [],
   "source": [
    "import tensorflow as tf"
   ]
  },
  {
   "cell_type": "code",
   "execution_count": 199,
   "id": "ca9bcaf8-ae0b-4f62-b283-d275522d7e6d",
   "metadata": {},
   "outputs": [
    {
     "name": "stdout",
     "output_type": "stream",
     "text": [
      "Requirement already satisfied: numpy in ./basicGPT/lib/python3.8/site-packages (1.22.0)\n"
     ]
    }
   ],
   "source": [
    "!pip install numpy"
   ]
  },
  {
   "cell_type": "code",
   "execution_count": 200,
   "id": "5d74db96-41a1-4601-a3cc-aeab0c2f8114",
   "metadata": {},
   "outputs": [
    {
     "name": "stdout",
     "output_type": "stream",
     "text": [
      "Requirement already satisfied: tensorflow in ./basicGPT/lib/python3.8/site-packages (2.7.0)\n",
      "Requirement already satisfied: wrapt>=1.11.0 in ./basicGPT/lib/python3.8/site-packages (from tensorflow) (1.13.3)\n",
      "Requirement already satisfied: grpcio<2.0,>=1.24.3 in ./basicGPT/lib/python3.8/site-packages (from tensorflow) (1.43.0)\n",
      "Requirement already satisfied: opt-einsum>=2.3.2 in ./basicGPT/lib/python3.8/site-packages (from tensorflow) (3.3.0)\n",
      "Requirement already satisfied: tensorboard~=2.6 in ./basicGPT/lib/python3.8/site-packages (from tensorflow) (2.7.0)\n",
      "Requirement already satisfied: keras-preprocessing>=1.1.1 in ./basicGPT/lib/python3.8/site-packages (from tensorflow) (1.1.2)\n",
      "Requirement already satisfied: tensorflow-estimator<2.8,~=2.7.0rc0 in ./basicGPT/lib/python3.8/site-packages (from tensorflow) (2.7.0)\n",
      "Requirement already satisfied: gast<0.5.0,>=0.2.1 in ./basicGPT/lib/python3.8/site-packages (from tensorflow) (0.4.0)\n",
      "Requirement already satisfied: astunparse>=1.6.0 in ./basicGPT/lib/python3.8/site-packages (from tensorflow) (1.6.3)\n",
      "Requirement already satisfied: libclang>=9.0.1 in ./basicGPT/lib/python3.8/site-packages (from tensorflow) (12.0.0)\n",
      "Requirement already satisfied: keras<2.8,>=2.7.0rc0 in ./basicGPT/lib/python3.8/site-packages (from tensorflow) (2.7.0)\n",
      "Requirement already satisfied: h5py>=2.9.0 in ./basicGPT/lib/python3.8/site-packages (from tensorflow) (3.6.0)\n",
      "Requirement already satisfied: numpy>=1.14.5 in ./basicGPT/lib/python3.8/site-packages (from tensorflow) (1.22.0)\n",
      "Requirement already satisfied: termcolor>=1.1.0 in ./basicGPT/lib/python3.8/site-packages (from tensorflow) (1.1.0)\n",
      "Requirement already satisfied: six>=1.12.0 in ./basicGPT/lib/python3.8/site-packages (from tensorflow) (1.16.0)\n",
      "Requirement already satisfied: protobuf>=3.9.2 in ./basicGPT/lib/python3.8/site-packages (from tensorflow) (3.19.1)\n",
      "Requirement already satisfied: absl-py>=0.4.0 in ./basicGPT/lib/python3.8/site-packages (from tensorflow) (1.0.0)\n",
      "Requirement already satisfied: typing-extensions>=3.6.6 in ./basicGPT/lib/python3.8/site-packages (from tensorflow) (4.0.1)\n",
      "Requirement already satisfied: google-pasta>=0.1.1 in ./basicGPT/lib/python3.8/site-packages (from tensorflow) (0.2.0)\n",
      "Requirement already satisfied: wheel<1.0,>=0.32.0 in ./basicGPT/lib/python3.8/site-packages (from tensorflow) (0.37.0)\n",
      "Requirement already satisfied: flatbuffers<3.0,>=1.12 in ./basicGPT/lib/python3.8/site-packages (from tensorflow) (2.0)\n",
      "Requirement already satisfied: tensorflow-io-gcs-filesystem>=0.21.0 in ./basicGPT/lib/python3.8/site-packages (from tensorflow) (0.23.1)\n",
      "Requirement already satisfied: markdown>=2.6.8 in ./basicGPT/lib/python3.8/site-packages (from tensorboard~=2.6->tensorflow) (3.3.6)\n",
      "Requirement already satisfied: google-auth-oauthlib<0.5,>=0.4.1 in ./basicGPT/lib/python3.8/site-packages (from tensorboard~=2.6->tensorflow) (0.4.6)\n",
      "Requirement already satisfied: tensorboard-plugin-wit>=1.6.0 in ./basicGPT/lib/python3.8/site-packages (from tensorboard~=2.6->tensorflow) (1.8.0)\n",
      "Requirement already satisfied: setuptools>=41.0.0 in ./basicGPT/lib/python3.8/site-packages (from tensorboard~=2.6->tensorflow) (59.5.0)\n",
      "Requirement already satisfied: tensorboard-data-server<0.7.0,>=0.6.0 in ./basicGPT/lib/python3.8/site-packages (from tensorboard~=2.6->tensorflow) (0.6.1)\n",
      "Requirement already satisfied: werkzeug>=0.11.15 in ./basicGPT/lib/python3.8/site-packages (from tensorboard~=2.6->tensorflow) (2.0.2)\n",
      "Requirement already satisfied: google-auth<3,>=1.6.3 in ./basicGPT/lib/python3.8/site-packages (from tensorboard~=2.6->tensorflow) (2.3.3)\n",
      "Requirement already satisfied: requests<3,>=2.21.0 in ./basicGPT/lib/python3.8/site-packages (from tensorboard~=2.6->tensorflow) (2.27.0)\n",
      "Requirement already satisfied: pyasn1-modules>=0.2.1 in ./basicGPT/lib/python3.8/site-packages (from google-auth<3,>=1.6.3->tensorboard~=2.6->tensorflow) (0.2.8)\n",
      "Requirement already satisfied: rsa<5,>=3.1.4 in ./basicGPT/lib/python3.8/site-packages (from google-auth<3,>=1.6.3->tensorboard~=2.6->tensorflow) (4.8)\n",
      "Requirement already satisfied: cachetools<5.0,>=2.0.0 in ./basicGPT/lib/python3.8/site-packages (from google-auth<3,>=1.6.3->tensorboard~=2.6->tensorflow) (4.2.4)\n",
      "Requirement already satisfied: requests-oauthlib>=0.7.0 in ./basicGPT/lib/python3.8/site-packages (from google-auth-oauthlib<0.5,>=0.4.1->tensorboard~=2.6->tensorflow) (1.3.0)\n",
      "Requirement already satisfied: importlib-metadata>=4.4 in ./basicGPT/lib/python3.8/site-packages (from markdown>=2.6.8->tensorboard~=2.6->tensorflow) (4.10.0)\n",
      "Requirement already satisfied: charset-normalizer~=2.0.0 in ./basicGPT/lib/python3.8/site-packages (from requests<3,>=2.21.0->tensorboard~=2.6->tensorflow) (2.0.10)\n",
      "Requirement already satisfied: certifi>=2017.4.17 in ./basicGPT/lib/python3.8/site-packages (from requests<3,>=2.21.0->tensorboard~=2.6->tensorflow) (2021.10.8)\n",
      "Requirement already satisfied: urllib3<1.27,>=1.21.1 in ./basicGPT/lib/python3.8/site-packages (from requests<3,>=2.21.0->tensorboard~=2.6->tensorflow) (1.26.7)\n",
      "Requirement already satisfied: idna<4,>=2.5 in ./basicGPT/lib/python3.8/site-packages (from requests<3,>=2.21.0->tensorboard~=2.6->tensorflow) (3.3)\n",
      "Requirement already satisfied: zipp>=0.5 in ./basicGPT/lib/python3.8/site-packages (from importlib-metadata>=4.4->markdown>=2.6.8->tensorboard~=2.6->tensorflow) (3.7.0)\n",
      "Requirement already satisfied: pyasn1<0.5.0,>=0.4.6 in ./basicGPT/lib/python3.8/site-packages (from pyasn1-modules>=0.2.1->google-auth<3,>=1.6.3->tensorboard~=2.6->tensorflow) (0.4.8)\n",
      "Requirement already satisfied: oauthlib>=3.0.0 in ./basicGPT/lib/python3.8/site-packages (from requests-oauthlib>=0.7.0->google-auth-oauthlib<0.5,>=0.4.1->tensorboard~=2.6->tensorflow) (3.1.1)\n"
     ]
    }
   ],
   "source": [
    "!pip install --upgrade tensorflow"
   ]
  },
  {
   "cell_type": "code",
   "execution_count": 201,
   "id": "46d5d510-ec87-4e63-af4f-520d9a231172",
   "metadata": {},
   "outputs": [],
   "source": [
    "from tensorflow import keras\n",
    "from tensorflow.keras import layers\n",
    "from tensorflow.keras.layers import TextVectorization"
   ]
  },
  {
   "cell_type": "code",
   "execution_count": 202,
   "id": "c6ab43c2-25f6-4425-b97a-8e2888cc1dd0",
   "metadata": {},
   "outputs": [],
   "source": [
    "class TokenPositionEmbedding(layers.Layer):\n",
    "    def __init__(self, maxlen, vocab_size, embed_size):\n",
    "        super(TokenPositionEmbedding, self).__init__()\n",
    "        \n",
    "        self.token_embed = layers.Embedding(input_dim=vocab_size, output_dim=embed_dim) # input_dim = 20000 --> output_dim = 256\n",
    "        self.position_embed = layers.Embedding(input_dim=maxlen, output_dim=embed_dim) # input_dim = 80 --> output_dim = 256\n",
    "        \n",
    "    def call(self, x):\n",
    "        maxlen = tf.shape(x)[-1]\n",
    "        positions = tf.range(start=0, limit=maxlen) # [0, 1, 2, 3 ... maxlen]\n",
    "        positions = self.position_embed(positions) # [0.343434, 0.594534, 1.53434, 0.786554... embed_dim]\n",
    "        x = self.token_embed(x)\n",
    "        \n",
    "        return x + positions"
   ]
  },
  {
   "cell_type": "code",
   "execution_count": 203,
   "id": "3ee1198b-acb7-48bd-9ab3-fec2419884db",
   "metadata": {},
   "outputs": [],
   "source": [
    "class TransformerBlock(layers.Layer):\n",
    "    def __init__(self, embed_dims, num_heads, learning_rate=0.15):\n",
    "        super(TransformerBlock, self).__init__()\n",
    "        \n",
    "        self.attention = layers.MultiHeadAttention(num_heads, embed_dim)\n",
    "        self.dropout1 = layers.Dropout(learning_rate)\n",
    "        self.norm1 = layers.LayerNormalization(epsilon=1e-6)\n",
    "        \n",
    "        self.feed_forward_network = keras.Sequential([\n",
    "            layers.Dense(embed_dims, activation='relu'),\n",
    "            layers.Dense(embed_dims)\n",
    "            \n",
    "        ])\n",
    "        \n",
    "        self.dropout2 = layers.Dropout(learning_rate)\n",
    "        self.norm2 = layers.LayerNormalization(epsilon=1e-6)\n",
    "        \n",
    "        \n",
    "    def call(self, inputs):\n",
    "        batch_size, seq_len = tf.shape(inputs)[0], tf.shape(inputs)[1] "
   ]
  },
  {
   "cell_type": "code",
   "execution_count": 204,
   "id": "6d17e150-f69b-405b-be6a-25c88f54f596",
   "metadata": {},
   "outputs": [],
   "source": [
    "np_array_2d = np.arange(0, 6).reshape([2, 3])"
   ]
  },
  {
   "cell_type": "code",
   "execution_count": 205,
   "id": "67263269-4b16-4797-85b9-17f94e8afe4a",
   "metadata": {},
   "outputs": [
    {
     "data": {
      "text/plain": [
       "array([[0, 1, 2],\n",
       "       [3, 4, 5]])"
      ]
     },
     "execution_count": 205,
     "metadata": {},
     "output_type": "execute_result"
    }
   ],
   "source": [
    "np_array_2d"
   ]
  },
  {
   "cell_type": "code",
   "execution_count": 206,
   "id": "d999bfeb-f297-44d2-a54b-cd6a70b9cb05",
   "metadata": {},
   "outputs": [],
   "source": [
    "np_array_2d_1 = np.arange(0, 6).reshape([3, 2])"
   ]
  },
  {
   "cell_type": "code",
   "execution_count": 207,
   "id": "c816de25-8664-4330-889a-7c0775fb655f",
   "metadata": {},
   "outputs": [
    {
     "data": {
      "text/plain": [
       "array([[0, 1],\n",
       "       [2, 3],\n",
       "       [4, 5]])"
      ]
     },
     "execution_count": 207,
     "metadata": {},
     "output_type": "execute_result"
    }
   ],
   "source": [
    "np_array_2d_1"
   ]
  },
  {
   "cell_type": "code",
   "execution_count": 208,
   "id": "87fc9468-90c3-4304-bd33-1d5fd2255f74",
   "metadata": {},
   "outputs": [],
   "source": [
    "result1 = np.sum(np_array_2d, axis=0)"
   ]
  },
  {
   "cell_type": "code",
   "execution_count": 209,
   "id": "7d62ef27-c24c-4978-af49-64b617d6e61d",
   "metadata": {},
   "outputs": [
    {
     "data": {
      "text/plain": [
       "array([3, 5, 7])"
      ]
     },
     "execution_count": 209,
     "metadata": {},
     "output_type": "execute_result"
    }
   ],
   "source": [
    "result1"
   ]
  },
  {
   "cell_type": "code",
   "execution_count": 210,
   "id": "7fc251d0-e7bd-47b9-b62c-22d6e7feeead",
   "metadata": {},
   "outputs": [],
   "source": [
    "result2 = np.sum(np_array_2d_1, axis=0)"
   ]
  },
  {
   "cell_type": "code",
   "execution_count": 211,
   "id": "942c42a3-ea56-4535-8f05-3221ec7509e6",
   "metadata": {},
   "outputs": [
    {
     "data": {
      "text/plain": [
       "array([6, 9])"
      ]
     },
     "execution_count": 211,
     "metadata": {},
     "output_type": "execute_result"
    }
   ],
   "source": [
    "result2"
   ]
  },
  {
   "cell_type": "code",
   "execution_count": 212,
   "id": "cdfb700b-912a-461f-80a8-8dfe04e40db4",
   "metadata": {},
   "outputs": [],
   "source": [
    "result3 = np.sum(np_array_2d, axis=1)"
   ]
  },
  {
   "cell_type": "code",
   "execution_count": 213,
   "id": "d7020350-cdd0-4535-af9a-747b8764acd9",
   "metadata": {},
   "outputs": [
    {
     "data": {
      "text/plain": [
       "array([ 3, 12])"
      ]
     },
     "execution_count": 213,
     "metadata": {},
     "output_type": "execute_result"
    }
   ],
   "source": [
    "result3"
   ]
  },
  {
   "cell_type": "code",
   "execution_count": 214,
   "id": "de2377d6-0cc0-4a7d-8ac9-ceea040713a6",
   "metadata": {},
   "outputs": [],
   "source": [
    "np_array_1s = np.array([\n",
    "  [1, 1, 1],\n",
    "  [1, 1, 1]\n",
    "])"
   ]
  },
  {
   "cell_type": "code",
   "execution_count": 215,
   "id": "a0468b8c-267e-484a-b0e3-9183b5ebea24",
   "metadata": {},
   "outputs": [],
   "source": [
    "np_array_9s = np.array([\n",
    "    [9, 9, 9],\n",
    "    [9, 9, 9]\n",
    "])"
   ]
  },
  {
   "cell_type": "code",
   "execution_count": 216,
   "id": "c0e71779-ffd8-406e-b8af-45251038ffdc",
   "metadata": {},
   "outputs": [
    {
     "data": {
      "text/plain": [
       "array([[9, 9, 9],\n",
       "       [9, 9, 9]])"
      ]
     },
     "execution_count": 216,
     "metadata": {},
     "output_type": "execute_result"
    }
   ],
   "source": [
    "np_array_9s"
   ]
  },
  {
   "cell_type": "code",
   "execution_count": 217,
   "id": "615fdb44-49c1-4c8a-b672-c9ab2284f514",
   "metadata": {},
   "outputs": [
    {
     "data": {
      "text/plain": [
       "array([[1, 1, 1],\n",
       "       [1, 1, 1]])"
      ]
     },
     "execution_count": 217,
     "metadata": {},
     "output_type": "execute_result"
    }
   ],
   "source": [
    "np_array_1s"
   ]
  },
  {
   "cell_type": "code",
   "execution_count": 218,
   "id": "d654a0cc-e4fa-43de-9b36-54bd2242f557",
   "metadata": {},
   "outputs": [],
   "source": [
    "concatenated_output = np.concatenate([np_array_1s, np_array_9s], axis = 0)"
   ]
  },
  {
   "cell_type": "code",
   "execution_count": 219,
   "id": "261ebc5f-7a23-4d7e-a557-2edd444da696",
   "metadata": {},
   "outputs": [
    {
     "data": {
      "text/plain": [
       "array([[1, 1, 1],\n",
       "       [1, 1, 1],\n",
       "       [9, 9, 9],\n",
       "       [9, 9, 9]])"
      ]
     },
     "execution_count": 219,
     "metadata": {},
     "output_type": "execute_result"
    }
   ],
   "source": [
    "concatenated_output"
   ]
  },
  {
   "cell_type": "code",
   "execution_count": 220,
   "id": "6870568b-97ed-401b-a7f9-ed8fc8e6069d",
   "metadata": {},
   "outputs": [],
   "source": [
    "concatenated_output_for_axis1 = np.concatenate([np_array_1s, np_array_9s], axis = 1)"
   ]
  },
  {
   "cell_type": "code",
   "execution_count": 221,
   "id": "0a8b2bed-600e-4275-8b1c-819a8d854021",
   "metadata": {},
   "outputs": [
    {
     "data": {
      "text/plain": [
       "array([[1, 1, 1, 9, 9, 9],\n",
       "       [1, 1, 1, 9, 9, 9]])"
      ]
     },
     "execution_count": 221,
     "metadata": {},
     "output_type": "execute_result"
    }
   ],
   "source": [
    "concatenated_output_for_axis1"
   ]
  },
  {
   "cell_type": "code",
   "execution_count": 222,
   "id": "bf44c552-eaf3-4cf4-8a14-760e1cbb8e92",
   "metadata": {},
   "outputs": [],
   "source": [
    "nparray_one_1dimensional = np.array([1, 1, 1])"
   ]
  },
  {
   "cell_type": "code",
   "execution_count": 223,
   "id": "e13e1c4d-2f27-445e-8ef5-1bfd03d8853c",
   "metadata": {},
   "outputs": [],
   "source": [
    "nparray_nine_1dimensional = np.array([9, 9, 9])"
   ]
  },
  {
   "cell_type": "code",
   "execution_count": 224,
   "id": "98f5ae27-147a-485d-95e2-524609a65209",
   "metadata": {},
   "outputs": [
    {
     "data": {
      "text/plain": [
       "array([1, 1, 1])"
      ]
     },
     "execution_count": 224,
     "metadata": {},
     "output_type": "execute_result"
    }
   ],
   "source": [
    "nparray_one_1dimensional"
   ]
  },
  {
   "cell_type": "code",
   "execution_count": 225,
   "id": "94a5a9e1-b072-45f2-ab70-e6499290b06c",
   "metadata": {},
   "outputs": [
    {
     "data": {
      "text/plain": [
       "array([9, 9, 9])"
      ]
     },
     "execution_count": 225,
     "metadata": {},
     "output_type": "execute_result"
    }
   ],
   "source": [
    "nparray_nine_1dimensional"
   ]
  },
  {
   "cell_type": "code",
   "execution_count": 226,
   "id": "83466687-2d7a-4f4f-b7e9-2396cf311406",
   "metadata": {},
   "outputs": [],
   "source": [
    "outtt = np.concatenate([nparray_one_1dimensional, nparray_nine_1dimensional])"
   ]
  },
  {
   "cell_type": "code",
   "execution_count": 227,
   "id": "74aa7116-ba67-4736-abf0-3c5ef87e6295",
   "metadata": {},
   "outputs": [
    {
     "data": {
      "text/plain": [
       "array([1, 1, 1, 9, 9, 9])"
      ]
     },
     "execution_count": 227,
     "metadata": {},
     "output_type": "execute_result"
    }
   ],
   "source": [
    "outtt"
   ]
  },
  {
   "cell_type": "code",
   "execution_count": 228,
   "id": "7c667d12-db55-4899-aff6-ee81db84f59e",
   "metadata": {},
   "outputs": [],
   "source": [
    "c = []\n",
    "a = [1, 2, 3, 4, 5, 6, 7]\n",
    "b = [7, 6, 5, 4, 3, 2, 1]"
   ]
  },
  {
   "cell_type": "code",
   "execution_count": 229,
   "id": "83c73ac2-caa1-4d2c-a6af-ee2b13f627a7",
   "metadata": {},
   "outputs": [],
   "source": [
    "for i in range(len(a)):\n",
    "    c.append(a[i]*b[i])"
   ]
  },
  {
   "cell_type": "code",
   "execution_count": 230,
   "id": "6aa0b8da-c4c2-4d93-afae-f817899cb64e",
   "metadata": {},
   "outputs": [
    {
     "data": {
      "text/plain": [
       "[7, 12, 15, 16, 15, 12, 7]"
      ]
     },
     "execution_count": 230,
     "metadata": {},
     "output_type": "execute_result"
    }
   ],
   "source": [
    "c"
   ]
  },
  {
   "cell_type": "code",
   "execution_count": 231,
   "id": "80172ec5-6dd2-46ff-b462-929eaae28958",
   "metadata": {},
   "outputs": [
    {
     "data": {
      "text/plain": [
       "array([[0, 1, 2],\n",
       "       [3, 4, 5]])"
      ]
     },
     "execution_count": 231,
     "metadata": {},
     "output_type": "execute_result"
    }
   ],
   "source": [
    "np_array_2d"
   ]
  },
  {
   "cell_type": "code",
   "execution_count": 232,
   "id": "65bf89ab-2db4-4298-ae63-f1dcdd5cd9fe",
   "metadata": {},
   "outputs": [
    {
     "data": {
      "text/plain": [
       "2"
      ]
     },
     "execution_count": 232,
     "metadata": {},
     "output_type": "execute_result"
    }
   ],
   "source": [
    "np_array_2d.ndim"
   ]
  },
  {
   "cell_type": "code",
   "execution_count": 233,
   "id": "3705e7d5-5c51-464e-81e1-248a6dc3e101",
   "metadata": {},
   "outputs": [
    {
     "data": {
      "text/plain": [
       "(2, 3)"
      ]
     },
     "execution_count": 233,
     "metadata": {},
     "output_type": "execute_result"
    }
   ],
   "source": [
    "np_array_2d.shape"
   ]
  },
  {
   "cell_type": "code",
   "execution_count": 234,
   "id": "c86f5c12-d7a3-407c-8660-f48848a925ba",
   "metadata": {},
   "outputs": [
    {
     "data": {
      "text/plain": [
       "6"
      ]
     },
     "execution_count": 234,
     "metadata": {},
     "output_type": "execute_result"
    }
   ],
   "source": [
    "np_array_2d.size"
   ]
  },
  {
   "cell_type": "code",
   "execution_count": 235,
   "id": "fb915106-a8a2-4d4e-ad8c-a3f963a7caca",
   "metadata": {},
   "outputs": [
    {
     "data": {
      "text/plain": [
       "dtype('int64')"
      ]
     },
     "execution_count": 235,
     "metadata": {},
     "output_type": "execute_result"
    }
   ],
   "source": [
    "np_array_2d.dtype"
   ]
  },
  {
   "cell_type": "code",
   "execution_count": 236,
   "id": "35021768-8d23-4f78-b138-a7839400d879",
   "metadata": {},
   "outputs": [
    {
     "data": {
      "text/plain": [
       "8"
      ]
     },
     "execution_count": 236,
     "metadata": {},
     "output_type": "execute_result"
    }
   ],
   "source": [
    "np_array_2d.itemsize"
   ]
  },
  {
   "cell_type": "code",
   "execution_count": 237,
   "id": "d3f3e6ef-64c5-486c-8e2c-f12b7c986dc9",
   "metadata": {},
   "outputs": [
    {
     "data": {
      "text/plain": [
       "<memory at 0x7faef27ee930>"
      ]
     },
     "execution_count": 237,
     "metadata": {},
     "output_type": "execute_result"
    }
   ],
   "source": [
    "np_array_2d.data"
   ]
  },
  {
   "cell_type": "code",
   "execution_count": 238,
   "id": "8f52e234-1d11-4e3d-887a-7527df3261ea",
   "metadata": {},
   "outputs": [],
   "source": [
    "import numpy as np"
   ]
  },
  {
   "cell_type": "code",
   "execution_count": 239,
   "id": "16830088-0375-4ee9-b30e-c0178ab20e92",
   "metadata": {},
   "outputs": [],
   "source": [
    "a = np.arange(15).reshape(3, 5)"
   ]
  },
  {
   "cell_type": "code",
   "execution_count": 240,
   "id": "58b274e2-f10d-4d58-9080-54d55fb7fc0d",
   "metadata": {},
   "outputs": [
    {
     "data": {
      "text/plain": [
       "array([[ 0,  1,  2,  3,  4],\n",
       "       [ 5,  6,  7,  8,  9],\n",
       "       [10, 11, 12, 13, 14]])"
      ]
     },
     "execution_count": 240,
     "metadata": {},
     "output_type": "execute_result"
    }
   ],
   "source": [
    "a"
   ]
  },
  {
   "cell_type": "code",
   "execution_count": 241,
   "id": "23d4d97a-9071-44ef-a6ae-622f2524aaed",
   "metadata": {},
   "outputs": [
    {
     "data": {
      "text/plain": [
       "array([0.  , 0.25, 0.5 , 0.75, 1.  , 1.25, 1.5 , 1.75, 2.  ])"
      ]
     },
     "execution_count": 241,
     "metadata": {},
     "output_type": "execute_result"
    }
   ],
   "source": [
    "from numpy import pi\n",
    "np.linspace(0, 2, 9)"
   ]
  },
  {
   "cell_type": "code",
   "execution_count": 242,
   "id": "5b9aecb1-5b5a-4379-a843-396412b95b4c",
   "metadata": {},
   "outputs": [],
   "source": [
    "x = np.linspace(0, 2 * pi, 100)"
   ]
  },
  {
   "cell_type": "code",
   "execution_count": 243,
   "id": "9dc3df8c-ec90-4edc-ba9d-38a1777899dd",
   "metadata": {},
   "outputs": [
    {
     "data": {
      "text/plain": [
       "array([0.        , 0.06346652, 0.12693304, 0.19039955, 0.25386607,\n",
       "       0.31733259, 0.38079911, 0.44426563, 0.50773215, 0.57119866,\n",
       "       0.63466518, 0.6981317 , 0.76159822, 0.82506474, 0.88853126,\n",
       "       0.95199777, 1.01546429, 1.07893081, 1.14239733, 1.20586385,\n",
       "       1.26933037, 1.33279688, 1.3962634 , 1.45972992, 1.52319644,\n",
       "       1.58666296, 1.65012947, 1.71359599, 1.77706251, 1.84052903,\n",
       "       1.90399555, 1.96746207, 2.03092858, 2.0943951 , 2.15786162,\n",
       "       2.22132814, 2.28479466, 2.34826118, 2.41172769, 2.47519421,\n",
       "       2.53866073, 2.60212725, 2.66559377, 2.72906028, 2.7925268 ,\n",
       "       2.85599332, 2.91945984, 2.98292636, 3.04639288, 3.10985939,\n",
       "       3.17332591, 3.23679243, 3.30025895, 3.36372547, 3.42719199,\n",
       "       3.4906585 , 3.55412502, 3.61759154, 3.68105806, 3.74452458,\n",
       "       3.8079911 , 3.87145761, 3.93492413, 3.99839065, 4.06185717,\n",
       "       4.12532369, 4.1887902 , 4.25225672, 4.31572324, 4.37918976,\n",
       "       4.44265628, 4.5061228 , 4.56958931, 4.63305583, 4.69652235,\n",
       "       4.75998887, 4.82345539, 4.88692191, 4.95038842, 5.01385494,\n",
       "       5.07732146, 5.14078798, 5.2042545 , 5.26772102, 5.33118753,\n",
       "       5.39465405, 5.45812057, 5.52158709, 5.58505361, 5.64852012,\n",
       "       5.71198664, 5.77545316, 5.83891968, 5.9023862 , 5.96585272,\n",
       "       6.02931923, 6.09278575, 6.15625227, 6.21971879, 6.28318531])"
      ]
     },
     "execution_count": 243,
     "metadata": {},
     "output_type": "execute_result"
    }
   ],
   "source": [
    "x"
   ]
  },
  {
   "cell_type": "code",
   "execution_count": 244,
   "id": "240a3f1d-a727-4776-a877-78210c462180",
   "metadata": {},
   "outputs": [
    {
     "data": {
      "text/plain": [
       "100"
      ]
     },
     "execution_count": 244,
     "metadata": {},
     "output_type": "execute_result"
    }
   ],
   "source": [
    "x.size"
   ]
  },
  {
   "cell_type": "code",
   "execution_count": 245,
   "id": "3a785ef4-a4e3-41ad-a520-bcb67278b092",
   "metadata": {},
   "outputs": [],
   "source": [
    "c = np.arange(48).reshape(2, 6, 4)"
   ]
  },
  {
   "cell_type": "code",
   "execution_count": null,
   "id": "a6919245-7ff7-4f59-a025-4dd98784185f",
   "metadata": {},
   "outputs": [],
   "source": []
  },
  {
   "cell_type": "code",
   "execution_count": 246,
   "id": "142611c8-02c6-4cf8-ad02-aa0805078e21",
   "metadata": {},
   "outputs": [],
   "source": [
    "d = np.arange(48).reshape(4, 6, 2)"
   ]
  },
  {
   "cell_type": "code",
   "execution_count": 247,
   "id": "5ac24f34-adf8-4f28-b715-f5c3a8795a39",
   "metadata": {},
   "outputs": [
    {
     "data": {
      "text/plain": [
       "array([[[ 0,  1],\n",
       "        [ 2,  3],\n",
       "        [ 4,  5],\n",
       "        [ 6,  7],\n",
       "        [ 8,  9],\n",
       "        [10, 11]],\n",
       "\n",
       "       [[12, 13],\n",
       "        [14, 15],\n",
       "        [16, 17],\n",
       "        [18, 19],\n",
       "        [20, 21],\n",
       "        [22, 23]],\n",
       "\n",
       "       [[24, 25],\n",
       "        [26, 27],\n",
       "        [28, 29],\n",
       "        [30, 31],\n",
       "        [32, 33],\n",
       "        [34, 35]],\n",
       "\n",
       "       [[36, 37],\n",
       "        [38, 39],\n",
       "        [40, 41],\n",
       "        [42, 43],\n",
       "        [44, 45],\n",
       "        [46, 47]]])"
      ]
     },
     "execution_count": 247,
     "metadata": {},
     "output_type": "execute_result"
    }
   ],
   "source": [
    "d"
   ]
  },
  {
   "cell_type": "code",
   "execution_count": 248,
   "id": "553c8d3d-121b-4aef-87b3-e3ffe11bedb7",
   "metadata": {},
   "outputs": [],
   "source": [
    "A = np.array([\n",
    "        [1, 2], [0, 3]])"
   ]
  },
  {
   "cell_type": "code",
   "execution_count": 249,
   "id": "5223fa3f-36d4-43bc-af9f-098257c6650b",
   "metadata": {},
   "outputs": [],
   "source": [
    "B = np.array([\n",
    "    [4, 5], [7, 9]])"
   ]
  },
  {
   "cell_type": "code",
   "execution_count": 250,
   "id": "abb9d55c-1ee6-4fc5-b0b9-1a5644ac6a7a",
   "metadata": {},
   "outputs": [
    {
     "data": {
      "text/plain": [
       "array([[1, 2],\n",
       "       [0, 3]])"
      ]
     },
     "execution_count": 250,
     "metadata": {},
     "output_type": "execute_result"
    }
   ],
   "source": [
    "A"
   ]
  },
  {
   "cell_type": "code",
   "execution_count": 251,
   "id": "b8a493d6-5f7c-49e4-a8a6-2ed94dbecd6d",
   "metadata": {},
   "outputs": [
    {
     "data": {
      "text/plain": [
       "array([[4, 5],\n",
       "       [7, 9]])"
      ]
     },
     "execution_count": 251,
     "metadata": {},
     "output_type": "execute_result"
    }
   ],
   "source": [
    "B"
   ]
  },
  {
   "cell_type": "code",
   "execution_count": 252,
   "id": "18d20afc-7edc-4c94-b06a-3503eb45fc4e",
   "metadata": {},
   "outputs": [
    {
     "data": {
      "text/plain": [
       "array([[ 4, 10],\n",
       "       [ 0, 27]])"
      ]
     },
     "execution_count": 252,
     "metadata": {},
     "output_type": "execute_result"
    }
   ],
   "source": [
    "A * B"
   ]
  },
  {
   "cell_type": "code",
   "execution_count": 253,
   "id": "8014d4b4-fbd0-4f6d-bc1b-62aef33a7339",
   "metadata": {},
   "outputs": [
    {
     "data": {
      "text/plain": [
       "array([[18, 23],\n",
       "       [21, 27]])"
      ]
     },
     "execution_count": 253,
     "metadata": {},
     "output_type": "execute_result"
    }
   ],
   "source": [
    "A @ B"
   ]
  },
  {
   "cell_type": "code",
   "execution_count": 254,
   "id": "0baecc0b-daee-4718-b2d8-8d90bb063375",
   "metadata": {},
   "outputs": [],
   "source": [
    "rg = np.random.default_rng(1)"
   ]
  },
  {
   "cell_type": "code",
   "execution_count": 255,
   "id": "9d8fac54-2427-4038-b863-75168aad022f",
   "metadata": {},
   "outputs": [],
   "source": [
    "b = np.linspace(0, pi, 3)"
   ]
  },
  {
   "cell_type": "code",
   "execution_count": 256,
   "id": "f3df2fc8-5cc2-4167-8470-b2d471f030a3",
   "metadata": {},
   "outputs": [
    {
     "data": {
      "text/plain": [
       "array([0.        , 1.57079633, 3.14159265])"
      ]
     },
     "execution_count": 256,
     "metadata": {},
     "output_type": "execute_result"
    }
   ],
   "source": [
    "b"
   ]
  },
  {
   "cell_type": "code",
   "execution_count": 257,
   "id": "f005e9e3-6fb1-4e83-8652-31ef20fc8898",
   "metadata": {},
   "outputs": [],
   "source": [
    "b = np.arange(12).reshape(3, 4)"
   ]
  },
  {
   "cell_type": "code",
   "execution_count": 258,
   "id": "cd71a9e7-da6e-474b-8222-75d994b0a8ae",
   "metadata": {},
   "outputs": [
    {
     "data": {
      "text/plain": [
       "array([11, 14])"
      ]
     },
     "execution_count": 258,
     "metadata": {},
     "output_type": "execute_result"
    }
   ],
   "source": [
    "B.sum(axis=0)"
   ]
  },
  {
   "cell_type": "code",
   "execution_count": 259,
   "id": "3a4efd84-b7e1-40ec-8ca7-b551e99b5330",
   "metadata": {},
   "outputs": [
    {
     "data": {
      "text/plain": [
       "array([ 9, 16])"
      ]
     },
     "execution_count": 259,
     "metadata": {},
     "output_type": "execute_result"
    }
   ],
   "source": [
    "B.sum(axis=1)"
   ]
  },
  {
   "cell_type": "code",
   "execution_count": 260,
   "id": "9e7af7f2-9f7b-4280-a115-65e2349f02a9",
   "metadata": {},
   "outputs": [
    {
     "data": {
      "text/plain": [
       "array([4, 5])"
      ]
     },
     "execution_count": 260,
     "metadata": {},
     "output_type": "execute_result"
    }
   ],
   "source": [
    "B.min(axis=0)"
   ]
  },
  {
   "cell_type": "code",
   "execution_count": 261,
   "id": "5f4d92ce-65e3-4ad2-bcd1-ef488070600d",
   "metadata": {},
   "outputs": [
    {
     "data": {
      "text/plain": [
       "array([[ 4,  9],\n",
       "       [ 7, 16]])"
      ]
     },
     "execution_count": 261,
     "metadata": {},
     "output_type": "execute_result"
    }
   ],
   "source": [
    "B.cumsum(axis=1)"
   ]
  },
  {
   "cell_type": "code",
   "execution_count": 262,
   "id": "ca46effe-0265-4645-bd9e-70f3568eb55e",
   "metadata": {},
   "outputs": [],
   "source": [
    "F = np.arange(3)"
   ]
  },
  {
   "cell_type": "code",
   "execution_count": 263,
   "id": "1b5f2a63-5d10-4f3a-a7a6-6d4dbaa4acf2",
   "metadata": {},
   "outputs": [
    {
     "data": {
      "text/plain": [
       "array([0, 1, 2])"
      ]
     },
     "execution_count": 263,
     "metadata": {},
     "output_type": "execute_result"
    }
   ],
   "source": [
    "F"
   ]
  },
  {
   "cell_type": "code",
   "execution_count": 264,
   "id": "a78e7749-2919-4b31-97a2-23812607f617",
   "metadata": {},
   "outputs": [
    {
     "data": {
      "text/plain": [
       "array([1.        , 2.71828183, 7.3890561 ])"
      ]
     },
     "execution_count": 264,
     "metadata": {},
     "output_type": "execute_result"
    }
   ],
   "source": [
    "np.exp(F)"
   ]
  },
  {
   "cell_type": "code",
   "execution_count": 265,
   "id": "2ba6769e-845c-4902-8191-91a0f3345b9f",
   "metadata": {},
   "outputs": [],
   "source": [
    "a = np.arange(10)**3"
   ]
  },
  {
   "cell_type": "code",
   "execution_count": 266,
   "id": "78cfa03b-16aa-4f9c-bcb5-f4a0095ffb71",
   "metadata": {},
   "outputs": [
    {
     "data": {
      "text/plain": [
       "array([  0,   1,   8,  27,  64, 125, 216, 343, 512, 729])"
      ]
     },
     "execution_count": 266,
     "metadata": {},
     "output_type": "execute_result"
    }
   ],
   "source": [
    "a"
   ]
  },
  {
   "cell_type": "code",
   "execution_count": 267,
   "id": "e4c0c853-d7d4-4add-a937-206ac216f9fc",
   "metadata": {},
   "outputs": [
    {
     "data": {
      "text/plain": [
       "8"
      ]
     },
     "execution_count": 267,
     "metadata": {},
     "output_type": "execute_result"
    }
   ],
   "source": [
    "a[2]"
   ]
  },
  {
   "cell_type": "code",
   "execution_count": 268,
   "id": "e33179fd-f0c0-4be0-9732-d24a52b86e11",
   "metadata": {},
   "outputs": [
    {
     "data": {
      "text/plain": [
       "array([  8,  27,  64, 125, 216])"
      ]
     },
     "execution_count": 268,
     "metadata": {},
     "output_type": "execute_result"
    }
   ],
   "source": [
    "a[2:7]"
   ]
  },
  {
   "cell_type": "code",
   "execution_count": 269,
   "id": "adb6afd3-e805-4dc7-be67-5f3a2a4ec1b2",
   "metadata": {},
   "outputs": [],
   "source": [
    "ehzaArr = np.arange(20)**3"
   ]
  },
  {
   "cell_type": "code",
   "execution_count": 270,
   "id": "0fbec047-6e4d-4d21-95f3-0f59b31a8653",
   "metadata": {},
   "outputs": [
    {
     "data": {
      "text/plain": [
       "array([   0,    1,    8,   27,   64,  125,  216,  343,  512,  729, 1000,\n",
       "       1331, 1728, 2197, 2744, 3375, 4096, 4913, 5832, 6859])"
      ]
     },
     "execution_count": 270,
     "metadata": {},
     "output_type": "execute_result"
    }
   ],
   "source": [
    "ehzaArr"
   ]
  },
  {
   "cell_type": "code",
   "execution_count": 271,
   "id": "91a35ac8-d1c7-4b64-9348-0c65f60542cd",
   "metadata": {},
   "outputs": [
    {
     "data": {
      "text/plain": [
       "array([   0,    1,    8,   27,   64,  125,  216,  343,  512,  729, 1000,\n",
       "       1331, 1728, 2197, 2744, 3375, 4096, 4913, 5832, 6859])"
      ]
     },
     "execution_count": 271,
     "metadata": {},
     "output_type": "execute_result"
    }
   ],
   "source": [
    "ehzaArr"
   ]
  },
  {
   "cell_type": "code",
   "execution_count": 272,
   "id": "97a0f694-dfbc-4058-8ea3-60e0cdca0ce5",
   "metadata": {},
   "outputs": [
    {
     "data": {
      "text/plain": [
       "array([ 27,  64, 125, 216])"
      ]
     },
     "execution_count": 272,
     "metadata": {},
     "output_type": "execute_result"
    }
   ],
   "source": [
    "ehzaArr[3: 7]"
   ]
  },
  {
   "cell_type": "code",
   "execution_count": 273,
   "id": "c76ddaee-c8ab-4fad-954a-a2ea202c0980",
   "metadata": {},
   "outputs": [],
   "source": [
    "ehzaArr[0: 8: 2] = 100"
   ]
  },
  {
   "cell_type": "code",
   "execution_count": 274,
   "id": "fe818d37-2b57-463b-98a6-a5316758ede1",
   "metadata": {},
   "outputs": [
    {
     "data": {
      "text/plain": [
       "array([ 100,    1,  100,   27,  100,  125,  100,  343,  512,  729, 1000,\n",
       "       1331, 1728, 2197, 2744, 3375, 4096, 4913, 5832, 6859])"
      ]
     },
     "execution_count": 274,
     "metadata": {},
     "output_type": "execute_result"
    }
   ],
   "source": [
    "ehzaArr"
   ]
  },
  {
   "cell_type": "code",
   "execution_count": 275,
   "id": "8fc3a6fd-b68e-4b96-8dd3-86694784c1fb",
   "metadata": {},
   "outputs": [
    {
     "data": {
      "text/plain": [
       "array([ 100,    1,  100,   27,  100,  125,  100,  343,  512,  729, 1000,\n",
       "       1331, 1728, 2197, 2744, 3375, 4096, 4913, 5832, 6859])"
      ]
     },
     "execution_count": 275,
     "metadata": {},
     "output_type": "execute_result"
    }
   ],
   "source": [
    "ehzaArr"
   ]
  },
  {
   "cell_type": "code",
   "execution_count": 276,
   "id": "fc6f4f35-51ea-4d00-9666-c394d8a85cf7",
   "metadata": {},
   "outputs": [
    {
     "data": {
      "text/plain": [
       "array([6859, 5832, 4913, 4096, 3375, 2744, 2197, 1728, 1331, 1000,  729,\n",
       "        512,  343,  100,  125,  100,   27,  100,    1,  100])"
      ]
     },
     "execution_count": 276,
     "metadata": {},
     "output_type": "execute_result"
    }
   ],
   "source": [
    "ehzaArr[::-1]"
   ]
  },
  {
   "cell_type": "code",
   "execution_count": 277,
   "id": "16d570a8-1b3b-4fa3-b742-4563482e0e1c",
   "metadata": {},
   "outputs": [
    {
     "data": {
      "text/plain": [
       "array([ 100,    1,  100,   27,  100,  125,  100,  343,  512,  729, 1000,\n",
       "       1331, 1728, 2197, 2744, 3375, 4096, 4913, 5832, 6859])"
      ]
     },
     "execution_count": 277,
     "metadata": {},
     "output_type": "execute_result"
    }
   ],
   "source": [
    "ehzaArr[::]"
   ]
  },
  {
   "cell_type": "code",
   "execution_count": 278,
   "id": "1f9189aa-d373-46a6-8875-8dd0192835e4",
   "metadata": {},
   "outputs": [
    {
     "name": "stdout",
     "output_type": "stream",
     "text": [
      "0.0\n",
      "1.0\n",
      "2.0\n",
      "3.0\n",
      "3.9999999999999996\n",
      "4.999999999999999\n",
      "5.999999999999999\n",
      "6.999999999999999\n",
      "7.999999999999999\n",
      "8.999999999999998\n"
     ]
    }
   ],
   "source": [
    "for i in a:\n",
    "    print(i**(1/3))"
   ]
  },
  {
   "cell_type": "code",
   "execution_count": 279,
   "id": "b7a98252-fa91-488e-b15a-1c0c989220fc",
   "metadata": {},
   "outputs": [],
   "source": [
    "def f(x, y):\n",
    "    return 10 * x + y"
   ]
  },
  {
   "cell_type": "code",
   "execution_count": 280,
   "id": "eedd250b-24b7-47b4-891f-dc3418788810",
   "metadata": {},
   "outputs": [
    {
     "data": {
      "text/plain": [
       "<function __main__.f(x, y)>"
      ]
     },
     "execution_count": 280,
     "metadata": {},
     "output_type": "execute_result"
    }
   ],
   "source": [
    "f"
   ]
  },
  {
   "cell_type": "code",
   "execution_count": 281,
   "id": "9034bec8-4ed1-4be4-b0af-5951beb9f42c",
   "metadata": {},
   "outputs": [],
   "source": [
    "b = np.fromfunction(f, (5, 4), dtype=int)"
   ]
  },
  {
   "cell_type": "code",
   "execution_count": 282,
   "id": "119f0fbb-1b8d-410c-8821-1b5d861d3e1a",
   "metadata": {},
   "outputs": [
    {
     "data": {
      "text/plain": [
       "array([[ 0,  1,  2,  3],\n",
       "       [10, 11, 12, 13],\n",
       "       [20, 21, 22, 23],\n",
       "       [30, 31, 32, 33],\n",
       "       [40, 41, 42, 43]])"
      ]
     },
     "execution_count": 282,
     "metadata": {},
     "output_type": "execute_result"
    }
   ],
   "source": [
    "b"
   ]
  },
  {
   "cell_type": "code",
   "execution_count": 283,
   "id": "fddeba92-8f92-464c-b093-167bad306161",
   "metadata": {},
   "outputs": [],
   "source": [
    "def odd(x, y):\n",
    "    return x + y"
   ]
  },
  {
   "cell_type": "code",
   "execution_count": 284,
   "id": "a8f4fa57-fa2e-496a-9264-bfea31f21a6d",
   "metadata": {},
   "outputs": [],
   "source": [
    "hahah = np.fromfunction(odd, (3, 3), dtype=int)"
   ]
  },
  {
   "cell_type": "code",
   "execution_count": 285,
   "id": "0a6dedbe-eecf-4e64-9c6a-f28485df441b",
   "metadata": {},
   "outputs": [
    {
     "data": {
      "text/plain": [
       "array([[0, 1, 2],\n",
       "       [1, 2, 3],\n",
       "       [2, 3, 4]])"
      ]
     },
     "execution_count": 285,
     "metadata": {},
     "output_type": "execute_result"
    }
   ],
   "source": [
    "hahah"
   ]
  },
  {
   "cell_type": "code",
   "execution_count": 286,
   "id": "be36a7bf-fb21-4865-9ab5-8d749163b285",
   "metadata": {},
   "outputs": [
    {
     "data": {
      "text/plain": [
       "array([1, 2, 3])"
      ]
     },
     "execution_count": 286,
     "metadata": {},
     "output_type": "execute_result"
    }
   ],
   "source": [
    "hahah[0:3, 1]"
   ]
  },
  {
   "cell_type": "code",
   "execution_count": 287,
   "id": "a66ea344-dc6c-448b-bccc-da98e2f97514",
   "metadata": {},
   "outputs": [
    {
     "data": {
      "text/plain": [
       "array([[1],\n",
       "       [2],\n",
       "       [3]])"
      ]
     },
     "execution_count": 287,
     "metadata": {},
     "output_type": "execute_result"
    }
   ],
   "source": [
    "hahah[0:3, 1:2]"
   ]
  },
  {
   "cell_type": "code",
   "execution_count": 288,
   "id": "58f02831-ef97-4ff9-bd75-635347eefeaf",
   "metadata": {},
   "outputs": [
    {
     "data": {
      "text/plain": [
       "array([[0, 1, 2],\n",
       "       [1, 2, 3],\n",
       "       [2, 3, 4]])"
      ]
     },
     "execution_count": 288,
     "metadata": {},
     "output_type": "execute_result"
    }
   ],
   "source": [
    "hahah[0:3, :]"
   ]
  },
  {
   "cell_type": "code",
   "execution_count": 289,
   "id": "8cec33ef-6647-4b29-baaf-435c13a95643",
   "metadata": {},
   "outputs": [
    {
     "data": {
      "text/plain": [
       "array([[0, 1, 2],\n",
       "       [1, 2, 3],\n",
       "       [2, 3, 4]])"
      ]
     },
     "execution_count": 289,
     "metadata": {},
     "output_type": "execute_result"
    }
   ],
   "source": [
    "hahah[:, :]"
   ]
  },
  {
   "cell_type": "code",
   "execution_count": 290,
   "id": "9997d4cc-9b71-480c-b99f-d065a04bd46e",
   "metadata": {},
   "outputs": [
    {
     "data": {
      "text/plain": [
       "array([2, 3, 4])"
      ]
     },
     "execution_count": 290,
     "metadata": {},
     "output_type": "execute_result"
    }
   ],
   "source": [
    "hahah[-1]"
   ]
  },
  {
   "cell_type": "code",
   "execution_count": 291,
   "id": "ca5feae1-6b30-46b2-ba83-c385cf4d7f03",
   "metadata": {},
   "outputs": [],
   "source": [
    "c = np.array([\n",
    "    [\n",
    "      [0, 1, 2],\n",
    "      [10, 12, 13]\n",
    "    ],\n",
    "    [\n",
    "      [100, 101, 102],\n",
    "      [110, 112, 113]\n",
    "    ]\n",
    "])"
   ]
  },
  {
   "cell_type": "code",
   "execution_count": 292,
   "id": "e96d09e1-3c66-45fb-a50c-0457b4595065",
   "metadata": {},
   "outputs": [
    {
     "data": {
      "text/plain": [
       "array([[[  0,   1,   2],\n",
       "        [ 10,  12,  13]],\n",
       "\n",
       "       [[100, 101, 102],\n",
       "        [110, 112, 113]]])"
      ]
     },
     "execution_count": 292,
     "metadata": {},
     "output_type": "execute_result"
    }
   ],
   "source": [
    "c"
   ]
  },
  {
   "cell_type": "code",
   "execution_count": 293,
   "id": "bcb77983-6788-4c1d-8b32-2572135f2a03",
   "metadata": {},
   "outputs": [
    {
     "data": {
      "text/plain": [
       "array([[ 0,  1,  2],\n",
       "       [10, 12, 13]])"
      ]
     },
     "execution_count": 293,
     "metadata": {},
     "output_type": "execute_result"
    }
   ],
   "source": [
    "c[0, ...]"
   ]
  },
  {
   "cell_type": "code",
   "execution_count": 294,
   "id": "e40bd942-2e56-4ef9-8777-65f2291454ea",
   "metadata": {},
   "outputs": [
    {
     "data": {
      "text/plain": [
       "array([[  1,  12],\n",
       "       [101, 112]])"
      ]
     },
     "execution_count": 294,
     "metadata": {},
     "output_type": "execute_result"
    }
   ],
   "source": [
    "# It covers all the axes\n",
    "c[..., 1]"
   ]
  },
  {
   "cell_type": "code",
   "execution_count": 295,
   "id": "8b21ac69-4e41-4db5-9e23-9c4872e3030e",
   "metadata": {},
   "outputs": [
    {
     "data": {
      "text/plain": [
       "array([[  0,  10],\n",
       "       [100, 110]])"
      ]
     },
     "execution_count": 295,
     "metadata": {},
     "output_type": "execute_result"
    }
   ],
   "source": [
    "c[..., 0]"
   ]
  },
  {
   "cell_type": "code",
   "execution_count": 296,
   "id": "5729ae2b-6dc1-45ee-9dd3-ba76c2180f25",
   "metadata": {},
   "outputs": [
    {
     "data": {
      "text/plain": [
       "array([[  2,  13],\n",
       "       [102, 113]])"
      ]
     },
     "execution_count": 296,
     "metadata": {},
     "output_type": "execute_result"
    }
   ],
   "source": [
    "c[..., 2]"
   ]
  },
  {
   "cell_type": "code",
   "execution_count": 297,
   "id": "1a991d26-45d7-489d-8f1d-b3db4289ed1c",
   "metadata": {},
   "outputs": [
    {
     "name": "stdout",
     "output_type": "stream",
     "text": [
      "[[ 0  1  2]\n",
      " [10 12 13]]\n",
      "[[100 101 102]\n",
      " [110 112 113]]\n"
     ]
    }
   ],
   "source": [
    "for row in c:\n",
    "    print(row)"
   ]
  },
  {
   "cell_type": "code",
   "execution_count": 298,
   "id": "c309d595-7a5a-41f7-8bd2-330a73553af3",
   "metadata": {},
   "outputs": [
    {
     "name": "stdout",
     "output_type": "stream",
     "text": [
      "0\n",
      "1\n",
      "2\n",
      "10\n",
      "12\n",
      "13\n",
      "100\n",
      "101\n",
      "102\n",
      "110\n",
      "112\n",
      "113\n"
     ]
    }
   ],
   "source": [
    "for outer in c:\n",
    "    for innerRow in outer:\n",
    "        for everyFirstEle in innerRow:\n",
    "            print(everyFirstEle)"
   ]
  },
  {
   "cell_type": "code",
   "execution_count": 299,
   "id": "2eb8e47f-251d-4579-abe9-e66ca6b9afa9",
   "metadata": {},
   "outputs": [],
   "source": [
    "a = np.floor(20* rg.random((3, 4)))"
   ]
  },
  {
   "cell_type": "code",
   "execution_count": 300,
   "id": "abd429a3-e7af-41d5-9a2d-e03882a01955",
   "metadata": {},
   "outputs": [
    {
     "data": {
      "text/plain": [
       "array([[10., 19.,  2., 18.],\n",
       "       [ 6.,  8., 16.,  8.],\n",
       "       [10.,  0., 15., 10.]])"
      ]
     },
     "execution_count": 300,
     "metadata": {},
     "output_type": "execute_result"
    }
   ],
   "source": [
    "a"
   ]
  },
  {
   "cell_type": "code",
   "execution_count": 301,
   "id": "99562af9-27c6-4480-acf1-1cd3f8957bb7",
   "metadata": {},
   "outputs": [
    {
     "data": {
      "text/plain": [
       "(3, 4)"
      ]
     },
     "execution_count": 301,
     "metadata": {},
     "output_type": "execute_result"
    }
   ],
   "source": [
    "a.shape"
   ]
  },
  {
   "cell_type": "code",
   "execution_count": null,
   "id": "404edf1a-7624-445f-acf1-33abd6d249a5",
   "metadata": {},
   "outputs": [],
   "source": []
  },
  {
   "cell_type": "code",
   "execution_count": 302,
   "id": "dbd03db6-9730-49f6-ab29-d51700ef623a",
   "metadata": {},
   "outputs": [
    {
     "data": {
      "text/plain": [
       "array([10., 19.,  2., 18.,  6.,  8., 16.,  8., 10.,  0., 15., 10.])"
      ]
     },
     "execution_count": 302,
     "metadata": {},
     "output_type": "execute_result"
    }
   ],
   "source": [
    "a.ravel()"
   ]
  },
  {
   "cell_type": "code",
   "execution_count": 303,
   "id": "2d54ce83-e233-49a7-9b3c-069e0779b546",
   "metadata": {},
   "outputs": [
    {
     "data": {
      "text/plain": [
       "array([[10., 19.,  2.],\n",
       "       [18.,  6.,  8.],\n",
       "       [16.,  8., 10.],\n",
       "       [ 0., 15., 10.]])"
      ]
     },
     "execution_count": 303,
     "metadata": {},
     "output_type": "execute_result"
    }
   ],
   "source": [
    "a.reshape(4, -1)"
   ]
  },
  {
   "cell_type": "code",
   "execution_count": 304,
   "id": "ed5ee4ad-7a4e-4ab5-9e08-123fd8f37956",
   "metadata": {},
   "outputs": [],
   "source": [
    "a = np.floor(10 * rg.random((2, 2)))"
   ]
  },
  {
   "cell_type": "code",
   "execution_count": 305,
   "id": "69c99a0f-c13c-49a6-a02d-f30aa94bdcd6",
   "metadata": {},
   "outputs": [
    {
     "data": {
      "text/plain": [
       "array([[3., 7.],\n",
       "       [3., 4.]])"
      ]
     },
     "execution_count": 305,
     "metadata": {},
     "output_type": "execute_result"
    }
   ],
   "source": [
    "a"
   ]
  },
  {
   "cell_type": "code",
   "execution_count": 306,
   "id": "21e92cd9-b388-419e-aac4-2dd87ca10871",
   "metadata": {},
   "outputs": [],
   "source": [
    "b = np.floor(20 * rg.random((2, 2)))"
   ]
  },
  {
   "cell_type": "code",
   "execution_count": 307,
   "id": "7402071c-be79-4517-ab04-3850ec3ddaaf",
   "metadata": {},
   "outputs": [
    {
     "data": {
      "text/plain": [
       "array([[2., 8.],\n",
       "       [4., 5.]])"
      ]
     },
     "execution_count": 307,
     "metadata": {},
     "output_type": "execute_result"
    }
   ],
   "source": [
    "b"
   ]
  },
  {
   "cell_type": "code",
   "execution_count": 308,
   "id": "732dcb2c-2684-47f4-b51d-4d143b601599",
   "metadata": {},
   "outputs": [
    {
     "data": {
      "text/plain": [
       "array([[3., 7.],\n",
       "       [3., 4.],\n",
       "       [2., 8.],\n",
       "       [4., 5.]])"
      ]
     },
     "execution_count": 308,
     "metadata": {},
     "output_type": "execute_result"
    }
   ],
   "source": [
    "np.vstack((a, b))"
   ]
  },
  {
   "cell_type": "code",
   "execution_count": 309,
   "id": "2f4f300a-976b-48bf-a062-a8f9949e7be0",
   "metadata": {},
   "outputs": [
    {
     "data": {
      "text/plain": [
       "(4, 2)"
      ]
     },
     "execution_count": 309,
     "metadata": {},
     "output_type": "execute_result"
    }
   ],
   "source": [
    "np.vstack((a, b)).shape"
   ]
  },
  {
   "cell_type": "code",
   "execution_count": 310,
   "id": "11fc3f8c-8adc-4df9-9440-4b1cf86ab118",
   "metadata": {},
   "outputs": [
    {
     "data": {
      "text/plain": [
       "(2, 4)"
      ]
     },
     "execution_count": 310,
     "metadata": {},
     "output_type": "execute_result"
    }
   ],
   "source": [
    "np.hstack((a, b)).shape"
   ]
  },
  {
   "cell_type": "code",
   "execution_count": 311,
   "id": "289e2edb-aeb0-4d9b-a662-4806dbada7d4",
   "metadata": {},
   "outputs": [],
   "source": [
    "from numpy import newaxis"
   ]
  },
  {
   "cell_type": "code",
   "execution_count": 312,
   "id": "6a1d7a25-01f2-4a6c-b4de-031ad7251b90",
   "metadata": {},
   "outputs": [
    {
     "data": {
      "text/plain": [
       "array([[3., 7., 2., 8.],\n",
       "       [3., 4., 4., 5.]])"
      ]
     },
     "execution_count": 312,
     "metadata": {},
     "output_type": "execute_result"
    }
   ],
   "source": [
    "np.column_stack((a, b))"
   ]
  },
  {
   "cell_type": "code",
   "execution_count": 313,
   "id": "ef3a6d0f-0a09-4e51-b902-3a1f4f6e327e",
   "metadata": {},
   "outputs": [],
   "source": [
    "m = np.array([7., 9.])"
   ]
  },
  {
   "cell_type": "code",
   "execution_count": 314,
   "id": "2f6fca9b-e95a-4201-9616-f72f74565d1e",
   "metadata": {},
   "outputs": [],
   "source": [
    "n = np.array([3., 8.])"
   ]
  },
  {
   "cell_type": "code",
   "execution_count": 315,
   "id": "57d19912-1d69-453a-85c8-5ae9e0e61c6e",
   "metadata": {},
   "outputs": [
    {
     "data": {
      "text/plain": [
       "array([7., 9.])"
      ]
     },
     "execution_count": 315,
     "metadata": {},
     "output_type": "execute_result"
    }
   ],
   "source": [
    "m"
   ]
  },
  {
   "cell_type": "code",
   "execution_count": 316,
   "id": "d9eab8c1-e070-4b33-8b6f-911def86fd2b",
   "metadata": {},
   "outputs": [
    {
     "data": {
      "text/plain": [
       "(2,)"
      ]
     },
     "execution_count": 316,
     "metadata": {},
     "output_type": "execute_result"
    }
   ],
   "source": [
    "m.shape"
   ]
  },
  {
   "cell_type": "code",
   "execution_count": 317,
   "id": "562b2dd5-519b-4faa-b8b4-08bee6d51e84",
   "metadata": {},
   "outputs": [
    {
     "data": {
      "text/plain": [
       "(2,)"
      ]
     },
     "execution_count": 317,
     "metadata": {},
     "output_type": "execute_result"
    }
   ],
   "source": [
    "n.shape"
   ]
  },
  {
   "cell_type": "code",
   "execution_count": 318,
   "id": "6285b1e2-67cf-4d36-acfd-032102eed842",
   "metadata": {},
   "outputs": [
    {
     "data": {
      "text/plain": [
       "(2, 2)"
      ]
     },
     "execution_count": 318,
     "metadata": {},
     "output_type": "execute_result"
    }
   ],
   "source": [
    "np.column_stack((m, n)).shape"
   ]
  },
  {
   "cell_type": "code",
   "execution_count": 319,
   "id": "0396e20a-1f4c-40e8-a451-2f8d6a55987e",
   "metadata": {},
   "outputs": [
    {
     "data": {
      "text/plain": [
       "(2, 2)"
      ]
     },
     "execution_count": 319,
     "metadata": {},
     "output_type": "execute_result"
    }
   ],
   "source": [
    "m.shape + n.shape"
   ]
  },
  {
   "cell_type": "code",
   "execution_count": 320,
   "id": "cac70914-83d3-42ab-9ecd-7bce2ef6315a",
   "metadata": {},
   "outputs": [
    {
     "data": {
      "text/plain": [
       "tuple"
      ]
     },
     "execution_count": 320,
     "metadata": {},
     "output_type": "execute_result"
    }
   ],
   "source": [
    "type(m.shape)"
   ]
  },
  {
   "cell_type": "code",
   "execution_count": 321,
   "id": "0ff55ecf-a107-41aa-9002-ffb4d6c7bb3c",
   "metadata": {},
   "outputs": [
    {
     "data": {
      "text/plain": [
       "(2,)"
      ]
     },
     "execution_count": 321,
     "metadata": {},
     "output_type": "execute_result"
    }
   ],
   "source": [
    "n.shape"
   ]
  },
  {
   "cell_type": "code",
   "execution_count": 322,
   "id": "58c5cf1c-9ec1-43ad-ba47-e9057ab6f700",
   "metadata": {},
   "outputs": [
    {
     "data": {
      "text/plain": [
       "array([7., 9.])"
      ]
     },
     "execution_count": 322,
     "metadata": {},
     "output_type": "execute_result"
    }
   ],
   "source": [
    "m"
   ]
  },
  {
   "cell_type": "code",
   "execution_count": 323,
   "id": "25263f29-d790-494f-b307-92bd70033f29",
   "metadata": {},
   "outputs": [
    {
     "data": {
      "text/plain": [
       "array([3., 8.])"
      ]
     },
     "execution_count": 323,
     "metadata": {},
     "output_type": "execute_result"
    }
   ],
   "source": [
    "n"
   ]
  },
  {
   "cell_type": "code",
   "execution_count": 324,
   "id": "311d9db3-9e5e-4eb4-9ac7-c14995c46a9a",
   "metadata": {},
   "outputs": [],
   "source": [
    "a = np.arange(12)**2"
   ]
  },
  {
   "cell_type": "code",
   "execution_count": 325,
   "id": "18003a5f-649a-48db-9b03-4a783ae2fc09",
   "metadata": {},
   "outputs": [
    {
     "data": {
      "text/plain": [
       "array([  0,   1,   4,   9,  16,  25,  36,  49,  64,  81, 100, 121])"
      ]
     },
     "execution_count": 325,
     "metadata": {},
     "output_type": "execute_result"
    }
   ],
   "source": [
    "a"
   ]
  },
  {
   "cell_type": "code",
   "execution_count": 326,
   "id": "4f036421-0e52-424c-944b-b8cbb06fbd92",
   "metadata": {},
   "outputs": [],
   "source": [
    "i = np.array([1, 1, 3, 8, 10])\n"
   ]
  },
  {
   "cell_type": "code",
   "execution_count": 327,
   "id": "e12996b2-1e39-4e6b-93d9-02081f6af05a",
   "metadata": {},
   "outputs": [
    {
     "data": {
      "text/plain": [
       "array([  1,   1,   9,  64, 100])"
      ]
     },
     "execution_count": 327,
     "metadata": {},
     "output_type": "execute_result"
    }
   ],
   "source": [
    "a[i]"
   ]
  },
  {
   "cell_type": "code",
   "execution_count": 328,
   "id": "192f852a-8e83-4b17-9016-29dc676b4660",
   "metadata": {},
   "outputs": [],
   "source": [
    "data = np.array([1.0, 2.0])"
   ]
  },
  {
   "cell_type": "code",
   "execution_count": 329,
   "id": "82622a25-a888-49c7-b710-c4b0580063d9",
   "metadata": {},
   "outputs": [
    {
     "data": {
      "text/plain": [
       "array([1., 2.])"
      ]
     },
     "execution_count": 329,
     "metadata": {},
     "output_type": "execute_result"
    }
   ],
   "source": [
    "data"
   ]
  },
  {
   "cell_type": "code",
   "execution_count": 330,
   "id": "1b1d515c-a61b-4b73-b005-0bc5e0167232",
   "metadata": {},
   "outputs": [
    {
     "data": {
      "text/plain": [
       "array([1.6, 3.2])"
      ]
     },
     "execution_count": 330,
     "metadata": {},
     "output_type": "execute_result"
    }
   ],
   "source": [
    "data * 1.6"
   ]
  },
  {
   "cell_type": "code",
   "execution_count": 331,
   "id": "5ca1747e-40df-4ba2-b47d-955a21c62ca0",
   "metadata": {},
   "outputs": [],
   "source": [
    "amaderData = np.array([\n",
    "    [1, 2],\n",
    "    [33, 44],\n",
    "    [5, 6]\n",
    "])"
   ]
  },
  {
   "cell_type": "code",
   "execution_count": 332,
   "id": "e9e0a2d2-7716-4bc1-ada6-66960e4f0728",
   "metadata": {},
   "outputs": [
    {
     "data": {
      "text/plain": [
       "array([[ 1,  2],\n",
       "       [33, 44],\n",
       "       [ 5,  6]])"
      ]
     },
     "execution_count": 332,
     "metadata": {},
     "output_type": "execute_result"
    }
   ],
   "source": [
    "amaderData"
   ]
  },
  {
   "cell_type": "code",
   "execution_count": 333,
   "id": "731abdb6-64aa-4cdc-a797-43aef706bf4a",
   "metadata": {},
   "outputs": [],
   "source": [
    "import pandas as pd"
   ]
  },
  {
   "cell_type": "code",
   "execution_count": 334,
   "id": "2be64990-80a3-41b9-bfc2-1c4e088ea6b3",
   "metadata": {},
   "outputs": [],
   "source": [
    "x = pd.read_csv('music.csv', header=0)"
   ]
  },
  {
   "cell_type": "code",
   "execution_count": 335,
   "id": "a2c9949a-1be2-4c6f-a7e2-794223a48a21",
   "metadata": {},
   "outputs": [
    {
     "data": {
      "text/plain": [
       "pandas.core.frame.DataFrame"
      ]
     },
     "execution_count": 335,
     "metadata": {},
     "output_type": "execute_result"
    }
   ],
   "source": [
    "type(x)"
   ]
  },
  {
   "cell_type": "code",
   "execution_count": 336,
   "id": "fee972cc-32d6-4807-bab0-4dae34741b0f",
   "metadata": {},
   "outputs": [],
   "source": [
    "y = pd.read_csv('music.csv', usecols=['Genre', 'Artist'])"
   ]
  },
  {
   "cell_type": "code",
   "execution_count": 337,
   "id": "882bc812-000d-4c14-b3d6-1b06cfd5805e",
   "metadata": {},
   "outputs": [
    {
     "data": {
      "text/html": [
       "<div>\n",
       "<style scoped>\n",
       "    .dataframe tbody tr th:only-of-type {\n",
       "        vertical-align: middle;\n",
       "    }\n",
       "\n",
       "    .dataframe tbody tr th {\n",
       "        vertical-align: top;\n",
       "    }\n",
       "\n",
       "    .dataframe thead th {\n",
       "        text-align: right;\n",
       "    }\n",
       "</style>\n",
       "<table border=\"1\" class=\"dataframe\">\n",
       "  <thead>\n",
       "    <tr style=\"text-align: right;\">\n",
       "      <th></th>\n",
       "      <th>Artist</th>\n",
       "      <th>Genre</th>\n",
       "    </tr>\n",
       "  </thead>\n",
       "  <tbody>\n",
       "    <tr>\n",
       "      <th>0</th>\n",
       "      <td>Billie Holiday</td>\n",
       "      <td>Jazz</td>\n",
       "    </tr>\n",
       "    <tr>\n",
       "      <th>1</th>\n",
       "      <td>Jimi Hendrix</td>\n",
       "      <td>Rock</td>\n",
       "    </tr>\n",
       "    <tr>\n",
       "      <th>2</th>\n",
       "      <td>Miles Davis</td>\n",
       "      <td>Indie</td>\n",
       "    </tr>\n",
       "    <tr>\n",
       "      <th>3</th>\n",
       "      <td>SIA</td>\n",
       "      <td>Pop</td>\n",
       "    </tr>\n",
       "    <tr>\n",
       "      <th>4</th>\n",
       "      <td>Billie Eilish</td>\n",
       "      <td>Pop</td>\n",
       "    </tr>\n",
       "  </tbody>\n",
       "</table>\n",
       "</div>"
      ],
      "text/plain": [
       "           Artist  Genre\n",
       "0  Billie Holiday   Jazz\n",
       "1    Jimi Hendrix   Rock\n",
       "2     Miles Davis  Indie\n",
       "3             SIA    Pop\n",
       "4   Billie Eilish    Pop"
      ]
     },
     "execution_count": 337,
     "metadata": {},
     "output_type": "execute_result"
    }
   ],
   "source": [
    "y"
   ]
  },
  {
   "cell_type": "code",
   "execution_count": 338,
   "id": "7ed94458-4280-46c8-8243-ed79e73fcf9d",
   "metadata": {},
   "outputs": [],
   "source": [
    "amarDataFrame = pd.DataFrame(x)"
   ]
  },
  {
   "cell_type": "code",
   "execution_count": 339,
   "id": "f90d453b-767f-4046-a76b-45c18d58ac43",
   "metadata": {},
   "outputs": [
    {
     "data": {
      "text/html": [
       "<div>\n",
       "<style scoped>\n",
       "    .dataframe tbody tr th:only-of-type {\n",
       "        vertical-align: middle;\n",
       "    }\n",
       "\n",
       "    .dataframe tbody tr th {\n",
       "        vertical-align: top;\n",
       "    }\n",
       "\n",
       "    .dataframe thead th {\n",
       "        text-align: right;\n",
       "    }\n",
       "</style>\n",
       "<table border=\"1\" class=\"dataframe\">\n",
       "  <thead>\n",
       "    <tr style=\"text-align: right;\">\n",
       "      <th></th>\n",
       "      <th>Artist</th>\n",
       "      <th>Genre</th>\n",
       "      <th>Listeners</th>\n",
       "      <th>Plays</th>\n",
       "    </tr>\n",
       "  </thead>\n",
       "  <tbody>\n",
       "    <tr>\n",
       "      <th>0</th>\n",
       "      <td>Billie Holiday</td>\n",
       "      <td>Jazz</td>\n",
       "      <td>2700000</td>\n",
       "      <td>34000</td>\n",
       "    </tr>\n",
       "    <tr>\n",
       "      <th>1</th>\n",
       "      <td>Jimi Hendrix</td>\n",
       "      <td>Rock</td>\n",
       "      <td>120000</td>\n",
       "      <td>70222</td>\n",
       "    </tr>\n",
       "    <tr>\n",
       "      <th>2</th>\n",
       "      <td>Miles Davis</td>\n",
       "      <td>Indie</td>\n",
       "      <td>3000</td>\n",
       "      <td>48000</td>\n",
       "    </tr>\n",
       "    <tr>\n",
       "      <th>3</th>\n",
       "      <td>SIA</td>\n",
       "      <td>Pop</td>\n",
       "      <td>1999</td>\n",
       "      <td>74000</td>\n",
       "    </tr>\n",
       "    <tr>\n",
       "      <th>4</th>\n",
       "      <td>Billie Eilish</td>\n",
       "      <td>Pop</td>\n",
       "      <td>20000</td>\n",
       "      <td>98990</td>\n",
       "    </tr>\n",
       "  </tbody>\n",
       "</table>\n",
       "</div>"
      ],
      "text/plain": [
       "           Artist  Genre  Listeners  Plays\n",
       "0  Billie Holiday   Jazz    2700000  34000\n",
       "1    Jimi Hendrix   Rock     120000  70222\n",
       "2     Miles Davis  Indie       3000  48000\n",
       "3             SIA    Pop       1999  74000\n",
       "4   Billie Eilish    Pop      20000  98990"
      ]
     },
     "execution_count": 339,
     "metadata": {},
     "output_type": "execute_result"
    }
   ],
   "source": [
    "amarDataFrame"
   ]
  },
  {
   "cell_type": "code",
   "execution_count": 340,
   "id": "a77e4589-5aeb-4aaa-bf93-5ac6254e52c5",
   "metadata": {},
   "outputs": [],
   "source": [
    "amarDataFrame.to_csv('musicdataFrame.csv')"
   ]
  },
  {
   "cell_type": "code",
   "execution_count": 341,
   "id": "1f249e7e-95e8-459c-8894-a9491b623ddf",
   "metadata": {},
   "outputs": [
    {
     "data": {
      "text/plain": [
       "pandas.core.frame.DataFrame"
      ]
     },
     "execution_count": 341,
     "metadata": {},
     "output_type": "execute_result"
    }
   ],
   "source": [
    "type(amarDataFrame)"
   ]
  },
  {
   "cell_type": "code",
   "execution_count": 342,
   "id": "0822e429-accf-4c28-8c25-a1748b3e54f8",
   "metadata": {},
   "outputs": [],
   "source": [
    "import os\n",
    "import re\n",
    "import random\n",
    "import string\n",
    "import numpy as np\n",
    "import tensorflow as tf\n",
    "from tensorflow.keras import layers\n",
    "from tensorflow.keras.layers import TextVectorization"
   ]
  },
  {
   "cell_type": "code",
   "execution_count": 381,
   "id": "cc4d17a6-156a-4aed-932a-1e2f3a662844",
   "metadata": {},
   "outputs": [],
   "source": [
    "# Embedding\n",
    "from numpy import array\n",
    "\n",
    "docs = [\n",
    "    'Well done!', #1\n",
    "    'Good work', #1\n",
    "    'Great effort', #1\n",
    "    'nice work', #1\n",
    "    'Excellent', #1\n",
    "    'Weak', #0\n",
    "    'Poor Effort', #0\n",
    "    'not good', #0\n",
    "    'Poor work man', #0\n",
    "    'Could have done better' #0\n",
    "]"
   ]
  },
  {
   "cell_type": "code",
   "execution_count": 382,
   "id": "0f287d9d-4683-481e-8dbb-f0cf3b8a0b5b",
   "metadata": {},
   "outputs": [],
   "source": [
    "labels = array([1, 1, 1, 1, 1, 0, 0, 0, 0, 0])"
   ]
  },
  {
   "cell_type": "code",
   "execution_count": 383,
   "id": "d1dd3594-d138-40d1-a5b9-062cb25228d7",
   "metadata": {},
   "outputs": [
    {
     "data": {
      "text/plain": [
       "array([1, 1, 1, 1, 1, 0, 0, 0, 0, 0])"
      ]
     },
     "execution_count": 383,
     "metadata": {},
     "output_type": "execute_result"
    }
   ],
   "source": [
    "labels"
   ]
  },
  {
   "cell_type": "code",
   "execution_count": 384,
   "id": "53131987-f1ba-42aa-9610-5acaca0f3312",
   "metadata": {},
   "outputs": [],
   "source": [
    "vocab_size = 50"
   ]
  },
  {
   "cell_type": "code",
   "execution_count": 385,
   "id": "20534d0b-6a05-4ea5-8fcf-5a8791144476",
   "metadata": {},
   "outputs": [],
   "source": [
    "encoded_docs = [ tf.keras.preprocessing.text.one_hot(d, vocab_size) for d in docs ]"
   ]
  },
  {
   "cell_type": "code",
   "execution_count": 386,
   "id": "e770c00c-f556-42fa-9f3e-e4362c3ab659",
   "metadata": {},
   "outputs": [
    {
     "data": {
      "text/plain": [
       "[[1, 35],\n",
       " [18, 42],\n",
       " [25, 46],\n",
       " [44, 42],\n",
       " [14],\n",
       " [17],\n",
       " [33, 46],\n",
       " [9, 18],\n",
       " [33, 42, 42],\n",
       " [17, 30, 35, 47]]"
      ]
     },
     "execution_count": 386,
     "metadata": {},
     "output_type": "execute_result"
    }
   ],
   "source": [
    "encoded_docs"
   ]
  },
  {
   "cell_type": "code",
   "execution_count": 387,
   "id": "7ecc7909-96dc-436a-9b8a-12d023ba2479",
   "metadata": {},
   "outputs": [],
   "source": [
    "# Pad documents to a max length of four words\n",
    "max_length = 4\n",
    "\n",
    "# padded_docs = tf.keras.preprocessing.sequence.pad_sequences(encoded_docs, maxlen=max_length, padding='pre')\n",
    "padded_docs = tf.keras.preprocessing.sequence.pad_sequences(encoded_docs, maxlen=max_length, padding='post')"
   ]
  },
  {
   "cell_type": "code",
   "execution_count": 388,
   "id": "af9b3046-c7bb-4930-9412-d43fce630c25",
   "metadata": {},
   "outputs": [
    {
     "data": {
      "text/plain": [
       "array([[ 1, 35,  0,  0],\n",
       "       [18, 42,  0,  0],\n",
       "       [25, 46,  0,  0],\n",
       "       [44, 42,  0,  0],\n",
       "       [14,  0,  0,  0],\n",
       "       [17,  0,  0,  0],\n",
       "       [33, 46,  0,  0],\n",
       "       [ 9, 18,  0,  0],\n",
       "       [33, 42, 42,  0],\n",
       "       [17, 30, 35, 47]], dtype=int32)"
      ]
     },
     "execution_count": 388,
     "metadata": {},
     "output_type": "execute_result"
    }
   ],
   "source": [
    "padded_docs"
   ]
  },
  {
   "cell_type": "code",
   "execution_count": 389,
   "id": "32174639-eb13-4927-8241-9e73155d4037",
   "metadata": {},
   "outputs": [],
   "source": [
    "# Define the model\n",
    "model = tf.keras.Sequential()\n",
    "model.add(layers.Embedding(vocab_size, 8, input_length=max_length))\n",
    "model.add(layers.Flatten())\n",
    "model.add(layers.Dense(1, activation='sigmoid'))"
   ]
  },
  {
   "cell_type": "code",
   "execution_count": 390,
   "id": "61f11d5a-5c04-4704-80dd-7f1895d37f23",
   "metadata": {},
   "outputs": [],
   "source": [
    "model.compile(optimizer='adam', loss='binary_crossentropy', metrics=['accuracy'])"
   ]
  },
  {
   "cell_type": "code",
   "execution_count": 391,
   "id": "ebf21fd6-81b5-469e-b0ea-8d4cce1fa212",
   "metadata": {},
   "outputs": [
    {
     "name": "stdout",
     "output_type": "stream",
     "text": [
      "Model: \"sequential_7\"\n",
      "_________________________________________________________________\n",
      " Layer (type)                Output Shape              Param #   \n",
      "=================================================================\n",
      " embedding_4 (Embedding)     (None, 4, 8)              400       \n",
      "                                                                 \n",
      " flatten_2 (Flatten)         (None, 32)                0         \n",
      "                                                                 \n",
      " dense_1 (Dense)             (None, 1)                 33        \n",
      "                                                                 \n",
      "=================================================================\n",
      "Total params: 433\n",
      "Trainable params: 433\n",
      "Non-trainable params: 0\n",
      "_________________________________________________________________\n"
     ]
    }
   ],
   "source": [
    "model.summary()"
   ]
  },
  {
   "cell_type": "code",
   "execution_count": 404,
   "id": "744a4f6c-78f7-47aa-b85b-260c14f10326",
   "metadata": {},
   "outputs": [
    {
     "data": {
      "text/plain": [
       "<keras.callbacks.History at 0x7faef013b9d0>"
      ]
     },
     "execution_count": 404,
     "metadata": {},
     "output_type": "execute_result"
    }
   ],
   "source": [
    "model.fit(padded_docs, labels, epochs=50, verbose=0)"
   ]
  },
  {
   "cell_type": "code",
   "execution_count": 405,
   "id": "353595e1-3259-4188-9149-4ad1fbe7eddf",
   "metadata": {},
   "outputs": [],
   "source": [
    "loss, accuracy = model.evaluate(padded_docs, labels, verbose=0)"
   ]
  },
  {
   "cell_type": "code",
   "execution_count": 406,
   "id": "53815110-aca5-4a95-8846-29eeba6d3a7a",
   "metadata": {},
   "outputs": [
    {
     "data": {
      "text/plain": [
       "0.2408333718776703"
      ]
     },
     "execution_count": 406,
     "metadata": {},
     "output_type": "execute_result"
    }
   ],
   "source": [
    "loss"
   ]
  },
  {
   "cell_type": "code",
   "execution_count": 407,
   "id": "94c43fd5-c3cb-4ca5-9f51-443a5fdcdc4d",
   "metadata": {},
   "outputs": [
    {
     "data": {
      "text/plain": [
       "1.0"
      ]
     },
     "execution_count": 407,
     "metadata": {},
     "output_type": "execute_result"
    }
   ],
   "source": [
    "accuracy"
   ]
  },
  {
   "cell_type": "code",
   "execution_count": null,
   "id": "cda29126-2e24-405b-a470-26b6b075adf3",
   "metadata": {},
   "outputs": [],
   "source": []
  }
 ],
 "metadata": {
  "kernelspec": {
   "display_name": "Python 3 (ipykernel)",
   "language": "python",
   "name": "python3"
  },
  "language_info": {
   "codemirror_mode": {
    "name": "ipython",
    "version": 3
   },
   "file_extension": ".py",
   "mimetype": "text/x-python",
   "name": "python",
   "nbconvert_exporter": "python",
   "pygments_lexer": "ipython3",
   "version": "3.8.10"
  }
 },
 "nbformat": 4,
 "nbformat_minor": 5
}
